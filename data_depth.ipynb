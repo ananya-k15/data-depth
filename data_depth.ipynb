{
 "cells": [
  {
   "cell_type": "code",
   "execution_count": 2,
   "metadata": {},
   "outputs": [
    {
     "name": "stdout",
     "output_type": "stream",
     "text": [
      "\u001b[33mDEPRECATION: Configuring installation scheme with distutils config files is deprecated and will no longer work in the near future. If you are using a Homebrew or Linuxbrew Python, please see discussion at https://github.com/Homebrew/homebrew-core/issues/76621\u001b[0m\u001b[33m\n",
      "\u001b[0mRequirement already satisfied: scikit-learn in /opt/homebrew/lib/python3.8/site-packages (1.3.2)\n",
      "Requirement already satisfied: scipy in /opt/homebrew/lib/python3.8/site-packages (1.10.1)\n",
      "Requirement already satisfied: matplotlib in /opt/homebrew/lib/python3.8/site-packages (3.7.5)\n",
      "Requirement already satisfied: numpy<2.0,>=1.17.3 in /opt/homebrew/lib/python3.8/site-packages (from scikit-learn) (1.22.3)\n",
      "Requirement already satisfied: joblib>=1.1.1 in /opt/homebrew/lib/python3.8/site-packages (from scikit-learn) (1.4.2)\n",
      "Requirement already satisfied: threadpoolctl>=2.0.0 in /opt/homebrew/lib/python3.8/site-packages (from scikit-learn) (3.5.0)\n",
      "Requirement already satisfied: cycler>=0.10 in /opt/homebrew/lib/python3.8/site-packages (from matplotlib) (0.12.1)\n",
      "Requirement already satisfied: pyparsing>=2.3.1 in /opt/homebrew/lib/python3.8/site-packages (from matplotlib) (3.0.9)\n",
      "Requirement already satisfied: packaging>=20.0 in /opt/homebrew/lib/python3.8/site-packages (from matplotlib) (21.3)\n",
      "Requirement already satisfied: importlib-resources>=3.2.0 in /opt/homebrew/lib/python3.8/site-packages (from matplotlib) (5.9.0)\n",
      "Requirement already satisfied: kiwisolver>=1.0.1 in /opt/homebrew/lib/python3.8/site-packages (from matplotlib) (1.4.5)\n",
      "Requirement already satisfied: contourpy>=1.0.1 in /opt/homebrew/lib/python3.8/site-packages (from matplotlib) (1.1.1)\n",
      "Requirement already satisfied: fonttools>=4.22.0 in /opt/homebrew/lib/python3.8/site-packages (from matplotlib) (4.53.0)\n",
      "Requirement already satisfied: pillow>=6.2.0 in /opt/homebrew/lib/python3.8/site-packages (from matplotlib) (10.3.0)\n",
      "Requirement already satisfied: python-dateutil>=2.7 in /opt/homebrew/lib/python3.8/site-packages (from matplotlib) (2.8.2)\n",
      "Requirement already satisfied: zipp>=3.1.0 in /opt/homebrew/lib/python3.8/site-packages (from importlib-resources>=3.2.0->matplotlib) (3.8.1)\n",
      "Requirement already satisfied: six>=1.5 in /opt/homebrew/lib/python3.8/site-packages (from python-dateutil>=2.7->matplotlib) (1.16.0)\n",
      "\u001b[33mDEPRECATION: Configuring installation scheme with distutils config files is deprecated and will no longer work in the near future. If you are using a Homebrew or Linuxbrew Python, please see discussion at https://github.com/Homebrew/homebrew-core/issues/76621\u001b[0m\u001b[33m\n",
      "\u001b[0mNote: you may need to restart the kernel to use updated packages.\n"
     ]
    }
   ],
   "source": [
    "pip install -U scikit-learn scipy matplotlib"
   ]
  },
  {
   "cell_type": "code",
   "execution_count": 3,
   "metadata": {},
   "outputs": [
    {
     "name": "stdout",
     "output_type": "stream",
     "text": [
      "running install\n",
      "running bdist_egg\n",
      "running egg_info\n",
      "writing data_depth.egg-info/PKG-INFO\n",
      "writing dependency_links to data_depth.egg-info/dependency_links.txt\n",
      "writing requirements to data_depth.egg-info/requires.txt\n",
      "writing top-level names to data_depth.egg-info/top_level.txt\n",
      "reading manifest file 'data_depth.egg-info/SOURCES.txt'\n",
      "reading manifest template 'MANIFEST.in'\n",
      "warning: no files found matching './UNIX/ddalpha.so'\n",
      "warning: no files found matching './UNIX/depth_wrapper.so'\n",
      "warning: no files found matching '*.dll' under directory './depth/Win64'\n",
      "warning: no files found matching '*.dll' under directory './depth/Win32'\n",
      "warning: no files found matching '*.so' under directory './depth/UNIX'\n",
      "writing manifest file 'data_depth.egg-info/SOURCES.txt'\n",
      "installing library code to build/bdist.macosx-10.9-x86_64/egg\n",
      "running install_lib\n",
      "running build_py\n",
      "copying depth/multivariate/import_CDLL.py -> build/lib.macosx-10.9-x86_64-3.9/depth/multivariate\n",
      "running build_ext\n",
      "creating build/bdist.macosx-10.9-x86_64/egg\n",
      "copying build/lib.macosx-10.9-x86_64-3.9/ddalpha.cpython-39-darwin.so -> build/bdist.macosx-10.9-x86_64/egg\n",
      "copying build/lib.macosx-10.9-x86_64-3.9/depth_wrapper.cpython-39-darwin.so -> build/bdist.macosx-10.9-x86_64/egg\n",
      "creating build/bdist.macosx-10.9-x86_64/egg/depth\n",
      "creating build/bdist.macosx-10.9-x86_64/egg/depth/multivariate\n",
      "copying build/lib.macosx-10.9-x86_64-3.9/depth/multivariate/MCD.py -> build/bdist.macosx-10.9-x86_64/egg/depth/multivariate\n",
      "copying build/lib.macosx-10.9-x86_64-3.9/depth/multivariate/L2.rst -> build/bdist.macosx-10.9-x86_64/egg/depth/multivariate\n",
      "copying build/lib.macosx-10.9-x86_64-3.9/depth/multivariate/Potential.rst -> build/bdist.macosx-10.9-x86_64/egg/depth/multivariate\n",
      "copying build/lib.macosx-10.9-x86_64-3.9/depth/multivariate/plot.py -> build/bdist.macosx-10.9-x86_64/egg/depth/multivariate\n",
      "copying build/lib.macosx-10.9-x86_64-3.9/depth/multivariate/L2.py -> build/bdist.macosx-10.9-x86_64/egg/depth/multivariate\n",
      "copying build/lib.macosx-10.9-x86_64-3.9/depth/multivariate/Aprojection.py -> build/bdist.macosx-10.9-x86_64/egg/depth/multivariate\n",
      "copying build/lib.macosx-10.9-x86_64-3.9/depth/multivariate/SimplicialVolume.py -> build/bdist.macosx-10.9-x86_64/egg/depth/multivariate\n",
      "copying build/lib.macosx-10.9-x86_64-3.9/depth/multivariate/Halfspace.rst -> build/bdist.macosx-10.9-x86_64/egg/depth/multivariate\n",
      "copying build/lib.macosx-10.9-x86_64-3.9/depth/multivariate/Qhpeeling.rst -> build/bdist.macosx-10.9-x86_64/egg/depth/multivariate\n",
      "copying build/lib.macosx-10.9-x86_64-3.9/depth/multivariate/Halfspace.py -> build/bdist.macosx-10.9-x86_64/egg/depth/multivariate\n",
      "copying build/lib.macosx-10.9-x86_64-3.9/depth/multivariate/SimplicialVolume.rst -> build/bdist.macosx-10.9-x86_64/egg/depth/multivariate\n",
      "copying build/lib.macosx-10.9-x86_64-3.9/depth/multivariate/__init__.py -> build/bdist.macosx-10.9-x86_64/egg/depth/multivariate\n",
      "copying build/lib.macosx-10.9-x86_64-3.9/depth/multivariate/BetaSkeleton.rst -> build/bdist.macosx-10.9-x86_64/egg/depth/multivariate\n",
      "copying build/lib.macosx-10.9-x86_64-3.9/depth/multivariate/BetaSkeleton.py -> build/bdist.macosx-10.9-x86_64/egg/depth/multivariate\n",
      "copying build/lib.macosx-10.9-x86_64-3.9/depth/multivariate/Simplicial.py -> build/bdist.macosx-10.9-x86_64/egg/depth/multivariate\n",
      "copying build/lib.macosx-10.9-x86_64-3.9/depth/multivariate/Spatial.py -> build/bdist.macosx-10.9-x86_64/egg/depth/multivariate\n",
      "copying build/lib.macosx-10.9-x86_64-3.9/depth/multivariate/Zonoid.rst -> build/bdist.macosx-10.9-x86_64/egg/depth/multivariate\n",
      "copying build/lib.macosx-10.9-x86_64-3.9/depth/multivariate/Mahalanobis.rst -> build/bdist.macosx-10.9-x86_64/egg/depth/multivariate\n",
      "copying build/lib.macosx-10.9-x86_64-3.9/depth/multivariate/modules.rst -> build/bdist.macosx-10.9-x86_64/egg/depth/multivariate\n",
      "copying build/lib.macosx-10.9-x86_64-3.9/depth/multivariate/Zonoid.py -> build/bdist.macosx-10.9-x86_64/egg/depth/multivariate\n",
      "copying build/lib.macosx-10.9-x86_64-3.9/depth/multivariate/Mahalanobis.py -> build/bdist.macosx-10.9-x86_64/egg/depth/multivariate\n",
      "copying build/lib.macosx-10.9-x86_64-3.9/depth/multivariate/import_CDLL.py -> build/bdist.macosx-10.9-x86_64/egg/depth/multivariate\n",
      "copying build/lib.macosx-10.9-x86_64-3.9/depth/multivariate/Qhpeeling.py -> build/bdist.macosx-10.9-x86_64/egg/depth/multivariate\n",
      "copying build/lib.macosx-10.9-x86_64-3.9/depth/multivariate/Projection.rst -> build/bdist.macosx-10.9-x86_64/egg/depth/multivariate\n",
      "copying build/lib.macosx-10.9-x86_64-3.9/depth/multivariate/Potential.py -> build/bdist.macosx-10.9-x86_64/egg/depth/multivariate\n",
      "copying build/lib.macosx-10.9-x86_64-3.9/depth/multivariate/license.rst -> build/bdist.macosx-10.9-x86_64/egg/depth/multivariate\n",
      "copying build/lib.macosx-10.9-x86_64-3.9/depth/multivariate/Simplicial.rst -> build/bdist.macosx-10.9-x86_64/egg/depth/multivariate\n",
      "copying build/lib.macosx-10.9-x86_64-3.9/depth/multivariate/Aprojection.rst -> build/bdist.macosx-10.9-x86_64/egg/depth/multivariate\n",
      "copying build/lib.macosx-10.9-x86_64-3.9/depth/multivariate/introduction.rst -> build/bdist.macosx-10.9-x86_64/egg/depth/multivariate\n",
      "copying build/lib.macosx-10.9-x86_64-3.9/depth/multivariate/Projection.py -> build/bdist.macosx-10.9-x86_64/egg/depth/multivariate\n",
      "copying build/lib.macosx-10.9-x86_64-3.9/depth/multivariate/Spatial.rst -> build/bdist.macosx-10.9-x86_64/egg/depth/multivariate\n",
      "copying build/lib.macosx-10.9-x86_64-3.9/depth/multivariate/Depth_approximation.py -> build/bdist.macosx-10.9-x86_64/egg/depth/multivariate\n",
      "copying build/lib.macosx-10.9-x86_64-3.9/depth/multivariate/credits.rst -> build/bdist.macosx-10.9-x86_64/egg/depth/multivariate\n",
      "copying build/lib.macosx-10.9-x86_64-3.9/depth/conf.py -> build/bdist.macosx-10.9-x86_64/egg/depth\n",
      "copying build/lib.macosx-10.9-x86_64-3.9/depth/__init__.py -> build/bdist.macosx-10.9-x86_64/egg/depth\n",
      "creating build/bdist.macosx-10.9-x86_64/egg/depth/src\n",
      "copying build/lib.macosx-10.9-x86_64-3.9/depth/src/depth_wrapper.cpp -> build/bdist.macosx-10.9-x86_64/egg/depth/src\n",
      "copying build/lib.macosx-10.9-x86_64-3.9/depth/src/ddalpha.cpp -> build/bdist.macosx-10.9-x86_64/egg/depth/src\n",
      "byte-compiling build/bdist.macosx-10.9-x86_64/egg/depth/multivariate/MCD.py to MCD.cpython-39.pyc\n",
      "byte-compiling build/bdist.macosx-10.9-x86_64/egg/depth/multivariate/plot.py to plot.cpython-39.pyc\n",
      "byte-compiling build/bdist.macosx-10.9-x86_64/egg/depth/multivariate/L2.py to L2.cpython-39.pyc\n",
      "byte-compiling build/bdist.macosx-10.9-x86_64/egg/depth/multivariate/Aprojection.py to Aprojection.cpython-39.pyc\n",
      "byte-compiling build/bdist.macosx-10.9-x86_64/egg/depth/multivariate/SimplicialVolume.py to SimplicialVolume.cpython-39.pyc\n",
      "byte-compiling build/bdist.macosx-10.9-x86_64/egg/depth/multivariate/Halfspace.py to Halfspace.cpython-39.pyc\n",
      "byte-compiling build/bdist.macosx-10.9-x86_64/egg/depth/multivariate/__init__.py to __init__.cpython-39.pyc\n",
      "byte-compiling build/bdist.macosx-10.9-x86_64/egg/depth/multivariate/BetaSkeleton.py to BetaSkeleton.cpython-39.pyc\n",
      "byte-compiling build/bdist.macosx-10.9-x86_64/egg/depth/multivariate/Simplicial.py to Simplicial.cpython-39.pyc\n",
      "byte-compiling build/bdist.macosx-10.9-x86_64/egg/depth/multivariate/Spatial.py to Spatial.cpython-39.pyc\n",
      "byte-compiling build/bdist.macosx-10.9-x86_64/egg/depth/multivariate/Zonoid.py to Zonoid.cpython-39.pyc\n",
      "byte-compiling build/bdist.macosx-10.9-x86_64/egg/depth/multivariate/Mahalanobis.py to Mahalanobis.cpython-39.pyc\n",
      "byte-compiling build/bdist.macosx-10.9-x86_64/egg/depth/multivariate/import_CDLL.py to import_CDLL.cpython-39.pyc\n",
      "byte-compiling build/bdist.macosx-10.9-x86_64/egg/depth/multivariate/Qhpeeling.py to Qhpeeling.cpython-39.pyc\n",
      "byte-compiling build/bdist.macosx-10.9-x86_64/egg/depth/multivariate/Potential.py to Potential.cpython-39.pyc\n",
      "byte-compiling build/bdist.macosx-10.9-x86_64/egg/depth/multivariate/Projection.py to Projection.cpython-39.pyc\n",
      "byte-compiling build/bdist.macosx-10.9-x86_64/egg/depth/multivariate/Depth_approximation.py to Depth_approximation.cpython-39.pyc\n",
      "byte-compiling build/bdist.macosx-10.9-x86_64/egg/depth/conf.py to conf.cpython-39.pyc\n",
      "byte-compiling build/bdist.macosx-10.9-x86_64/egg/depth/__init__.py to __init__.cpython-39.pyc\n",
      "creating stub loader for ddalpha.cpython-39-darwin.so\n",
      "creating stub loader for depth_wrapper.cpython-39-darwin.so\n",
      "byte-compiling build/bdist.macosx-10.9-x86_64/egg/ddalpha.py to ddalpha.cpython-39.pyc\n",
      "byte-compiling build/bdist.macosx-10.9-x86_64/egg/depth_wrapper.py to depth_wrapper.cpython-39.pyc\n",
      "installing package data to build/bdist.macosx-10.9-x86_64/egg\n",
      "running install_data\n",
      "creating build/bdist.macosx-10.9-x86_64/egg/EGG-INFO\n",
      "copying data_depth.egg-info/PKG-INFO -> build/bdist.macosx-10.9-x86_64/egg/EGG-INFO\n",
      "copying data_depth.egg-info/SOURCES.txt -> build/bdist.macosx-10.9-x86_64/egg/EGG-INFO\n",
      "copying data_depth.egg-info/dependency_links.txt -> build/bdist.macosx-10.9-x86_64/egg/EGG-INFO\n",
      "copying data_depth.egg-info/not-zip-safe -> build/bdist.macosx-10.9-x86_64/egg/EGG-INFO\n",
      "copying data_depth.egg-info/requires.txt -> build/bdist.macosx-10.9-x86_64/egg/EGG-INFO\n",
      "copying data_depth.egg-info/top_level.txt -> build/bdist.macosx-10.9-x86_64/egg/EGG-INFO\n",
      "writing build/bdist.macosx-10.9-x86_64/egg/EGG-INFO/native_libs.txt\n",
      "creating 'dist/data_depth-1.0.0-py3.9-macosx-10.9-x86_64.egg' and adding 'build/bdist.macosx-10.9-x86_64/egg' to it\n",
      "removing 'build/bdist.macosx-10.9-x86_64/egg' (and everything under it)\n",
      "Processing data_depth-1.0.0-py3.9-macosx-10.9-x86_64.egg\n",
      "removing '/Users/DELL/opt/anaconda3/lib/python3.9/site-packages/data_depth-1.0.0-py3.9-macosx-10.9-x86_64.egg' (and everything under it)\n",
      "creating /Users/DELL/opt/anaconda3/lib/python3.9/site-packages/data_depth-1.0.0-py3.9-macosx-10.9-x86_64.egg\n",
      "Extracting data_depth-1.0.0-py3.9-macosx-10.9-x86_64.egg to /Users/DELL/opt/anaconda3/lib/python3.9/site-packages\n",
      "data-depth 1.0.0 is already the active version in easy-install.pth\n",
      "\n",
      "Installed /Users/DELL/opt/anaconda3/lib/python3.9/site-packages/data_depth-1.0.0-py3.9-macosx-10.9-x86_64.egg\n",
      "Processing dependencies for data-depth==1.0.0\n",
      "Searching for scikit-learn==0.24.2\n",
      "Best match: scikit-learn 0.24.2\n",
      "Adding scikit-learn 0.24.2 to easy-install.pth file\n",
      "\n",
      "Using /Users/DELL/opt/anaconda3/lib/python3.9/site-packages\n",
      "Searching for scipy==1.7.1\n",
      "Best match: scipy 1.7.1\n",
      "Adding scipy 1.7.1 to easy-install.pth file\n",
      "\n",
      "Using /Users/DELL/opt/anaconda3/lib/python3.9/site-packages\n",
      "Searching for numpy==1.22.4\n",
      "Best match: numpy 1.22.4\n",
      "Adding numpy 1.22.4 to easy-install.pth file\n",
      "Installing f2py script to /Users/DELL/opt/anaconda3/bin\n",
      "Installing f2py3 script to /Users/DELL/opt/anaconda3/bin\n",
      "Installing f2py3.9 script to /Users/DELL/opt/anaconda3/bin\n",
      "\n",
      "Using /Users/DELL/opt/anaconda3/lib/python3.9/site-packages\n",
      "Searching for joblib==1.1.0\n",
      "Best match: joblib 1.1.0\n",
      "Adding joblib 1.1.0 to easy-install.pth file\n",
      "\n",
      "Using /Users/DELL/opt/anaconda3/lib/python3.9/site-packages\n",
      "Searching for threadpoolctl==2.2.0\n",
      "Best match: threadpoolctl 2.2.0\n",
      "Adding threadpoolctl 2.2.0 to easy-install.pth file\n",
      "\n",
      "Using /Users/DELL/opt/anaconda3/lib/python3.9/site-packages\n",
      "Finished processing dependencies for data-depth==1.0.0\n"
     ]
    }
   ],
   "source": [
    "!python 'setup.py' install"
   ]
  },
  {
   "cell_type": "code",
   "execution_count": 4,
   "metadata": {},
   "outputs": [
    {
     "name": "stdout",
     "output_type": "stream",
     "text": [
      "running build\n",
      "running build_py\n",
      "running egg_info\n",
      "writing data_depth.egg-info/PKG-INFO\n",
      "writing dependency_links to data_depth.egg-info/dependency_links.txt\n",
      "writing requirements to data_depth.egg-info/requires.txt\n",
      "writing top-level names to data_depth.egg-info/top_level.txt\n",
      "reading manifest file 'data_depth.egg-info/SOURCES.txt'\n",
      "reading manifest template 'MANIFEST.in'\n",
      "warning: no files found matching './UNIX/ddalpha.so'\n",
      "warning: no files found matching './UNIX/depth_wrapper.so'\n",
      "warning: no files found matching '*.dll' under directory './depth/Win64'\n",
      "warning: no files found matching '*.dll' under directory './depth/Win32'\n",
      "warning: no files found matching '*.so' under directory './depth/UNIX'\n",
      "writing manifest file 'data_depth.egg-info/SOURCES.txt'\n",
      "running build_ext\n"
     ]
    }
   ],
   "source": [
    "!python 'setup.py' build"
   ]
  },
  {
   "cell_type": "code",
   "execution_count": 5,
   "metadata": {},
   "outputs": [],
   "source": [
    "import numpy as np\n",
    "import matplotlib.pyplot as plt"
   ]
  },
  {
   "cell_type": "markdown",
   "metadata": {},
   "source": [
    "## Create sample dataset\n",
    "We use the multivariate_normal function in numpy, using the speficiations given in the Anomaly detection paper."
   ]
  },
  {
   "cell_type": "code",
   "execution_count": 6,
   "metadata": {},
   "outputs": [],
   "source": [
    "mean1 = (1, 1)\n",
    "mean2 = (3.181, -0.222)\n",
    "cov1 = [[1, 1], [1, 2]]\n",
    "cov2 = [[i / 36 for i in j] for j in cov1]"
   ]
  },
  {
   "cell_type": "code",
   "execution_count": 7,
   "metadata": {},
   "outputs": [
    {
     "data": {
      "image/png": "[encoded data removed]",
      "text/plain": [
       "<Figure size 640x480 with 1 Axes>"
      ]
     },
     "metadata": {},
     "output_type": "display_data"
    }
   ],
   "source": [
    "# use fixed random seed for reproducable results\n",
    "rng = np.random.default_rng(322180440709489274700185804004290683059)\n",
    "x, y = rng.multivariate_normal(mean1, cov1, 90).T\n",
    "anom_x, anom_y = rng.multivariate_normal(mean2, cov2, 10).T\n",
    "plt.plot(x, y, 'x')\n",
    "plt.plot(anom_x, anom_y, 'o')\n",
    "plt.axis('equal')\n",
    "plt.show()"
   ]
  },
  {
   "cell_type": "code",
   "execution_count": 8,
   "metadata": {},
   "outputs": [
    {
     "name": "stdout",
     "output_type": "stream",
     "text": [
      "/opt/homebrew/lib/python3.8/site-packages\n",
      "/Users/DELL/Library/Python/3.8/lib/python/site-packages\n"
     ]
    },
    {
     "ename": "UnboundLocalError",
     "evalue": "local variable 'ddalpha_exact' referenced before assignment",
     "output_type": "error",
     "traceback": [
      "\u001b[0;31m---------------------------------------------------------------------------\u001b[0m",
      "\u001b[0;31mUnboundLocalError\u001b[0m                         Traceback (most recent call last)",
      "Cell \u001b[0;32mIn [8], line 1\u001b[0m\n\u001b[0;32m----> 1\u001b[0m \u001b[38;5;28;01mfrom\u001b[39;00m \u001b[38;5;21;01mdepth\u001b[39;00m\u001b[38;5;21;01m.\u001b[39;00m\u001b[38;5;21;01mmultivariate\u001b[39;00m \u001b[38;5;28;01mimport\u001b[39;00m \u001b[38;5;241m*\u001b[39m\n\u001b[1;32m      2\u001b[0m mat1\u001b[38;5;241m=\u001b[39m[[\u001b[38;5;241m1\u001b[39m, \u001b[38;5;241m0\u001b[39m, \u001b[38;5;241m0\u001b[39m, \u001b[38;5;241m0\u001b[39m, \u001b[38;5;241m0\u001b[39m],[\u001b[38;5;241m0\u001b[39m, \u001b[38;5;241m2\u001b[39m, \u001b[38;5;241m0\u001b[39m, \u001b[38;5;241m0\u001b[39m, \u001b[38;5;241m0\u001b[39m],[\u001b[38;5;241m0\u001b[39m, \u001b[38;5;241m0\u001b[39m, \u001b[38;5;241m3\u001b[39m, \u001b[38;5;241m0\u001b[39m, \u001b[38;5;241m0\u001b[39m],[\u001b[38;5;241m0\u001b[39m, \u001b[38;5;241m0\u001b[39m, \u001b[38;5;241m0\u001b[39m, \u001b[38;5;241m2\u001b[39m, \u001b[38;5;241m0\u001b[39m],[\u001b[38;5;241m0\u001b[39m, \u001b[38;5;241m0\u001b[39m, \u001b[38;5;241m0\u001b[39m, \u001b[38;5;241m0\u001b[39m, \u001b[38;5;241m1\u001b[39m]]\n\u001b[1;32m      3\u001b[0m mat2\u001b[38;5;241m=\u001b[39m[[\u001b[38;5;241m1\u001b[39m, \u001b[38;5;241m0\u001b[39m, \u001b[38;5;241m0\u001b[39m, \u001b[38;5;241m0\u001b[39m, \u001b[38;5;241m0\u001b[39m],[\u001b[38;5;241m0\u001b[39m, \u001b[38;5;241m1\u001b[39m, \u001b[38;5;241m0\u001b[39m, \u001b[38;5;241m0\u001b[39m, \u001b[38;5;241m0\u001b[39m],[\u001b[38;5;241m0\u001b[39m, \u001b[38;5;241m0\u001b[39m, \u001b[38;5;241m1\u001b[39m, \u001b[38;5;241m0\u001b[39m, \u001b[38;5;241m0\u001b[39m],[\u001b[38;5;241m0\u001b[39m, \u001b[38;5;241m0\u001b[39m, \u001b[38;5;241m0\u001b[39m, \u001b[38;5;241m1\u001b[39m, \u001b[38;5;241m0\u001b[39m],[\u001b[38;5;241m0\u001b[39m, \u001b[38;5;241m0\u001b[39m, \u001b[38;5;241m0\u001b[39m, \u001b[38;5;241m0\u001b[39m, \u001b[38;5;241m1\u001b[39m]]\n",
      "File \u001b[0;32m~/Documents/GitHub/gmf/depth/multivariate/__init__.py:1\u001b[0m\n\u001b[0;32m----> <a href='file:///Users/DELL/Documents/GitHub/gmf/depth/multivariate/__init__.py?line=0'>1</a>\u001b[0m \u001b[39mfrom\u001b[39;00m \u001b[39mdepth\u001b[39;00m\u001b[39m.\u001b[39;00m\u001b[39mmultivariate\u001b[39;00m\u001b[39m.\u001b[39;00m\u001b[39mDepth_approximation\u001b[39;00m \u001b[39mimport\u001b[39;00m depth_approximation\n\u001b[1;32m      <a href='file:///Users/DELL/Documents/GitHub/gmf/depth/multivariate/__init__.py?line=1'>2</a>\u001b[0m \u001b[39mfrom\u001b[39;00m \u001b[39mdepth\u001b[39;00m\u001b[39m.\u001b[39;00m\u001b[39mmultivariate\u001b[39;00m\u001b[39m.\u001b[39;00m\u001b[39mBetaSkeleton\u001b[39;00m \u001b[39mimport\u001b[39;00m betaSkeleton\n\u001b[1;32m      <a href='file:///Users/DELL/Documents/GitHub/gmf/depth/multivariate/__init__.py?line=2'>3</a>\u001b[0m \u001b[39mfrom\u001b[39;00m \u001b[39mdepth\u001b[39;00m\u001b[39m.\u001b[39;00m\u001b[39mmultivariate\u001b[39;00m\u001b[39m.\u001b[39;00m\u001b[39mHalfspace\u001b[39;00m \u001b[39mimport\u001b[39;00m halfspace\n",
      "File \u001b[0;32m~/Documents/GitHub/gmf/depth/multivariate/Depth_approximation.py:3\u001b[0m\n\u001b[1;32m      <a href='file:///Users/DELL/Documents/GitHub/gmf/depth/multivariate/Depth_approximation.py?line=0'>1</a>\u001b[0m \u001b[39mimport\u001b[39;00m \u001b[39mnumpy\u001b[39;00m \u001b[39mas\u001b[39;00m \u001b[39mnp\u001b[39;00m\n\u001b[1;32m      <a href='file:///Users/DELL/Documents/GitHub/gmf/depth/multivariate/Depth_approximation.py?line=1'>2</a>\u001b[0m \u001b[39mimport\u001b[39;00m \u001b[39msklearn\u001b[39;00m\u001b[39m.\u001b[39;00m\u001b[39mcovariance\u001b[39;00m \u001b[39mas\u001b[39;00m \u001b[39msk\u001b[39;00m\n\u001b[0;32m----> <a href='file:///Users/DELL/Documents/GitHub/gmf/depth/multivariate/Depth_approximation.py?line=2'>3</a>\u001b[0m \u001b[39mfrom\u001b[39;00m \u001b[39mdepth\u001b[39;00m\u001b[39m.\u001b[39;00m\u001b[39mmultivariate\u001b[39;00m\u001b[39m.\u001b[39;00m\u001b[39mimport_CDLL\u001b[39;00m \u001b[39mimport\u001b[39;00m libr,libRom\n\u001b[1;32m      <a href='file:///Users/DELL/Documents/GitHub/gmf/depth/multivariate/Depth_approximation.py?line=3'>4</a>\u001b[0m \u001b[39mfrom\u001b[39;00m \u001b[39mctypes\u001b[39;00m \u001b[39mimport\u001b[39;00m \u001b[39m*\u001b[39m\n\u001b[1;32m      <a href='file:///Users/DELL/Documents/GitHub/gmf/depth/multivariate/Depth_approximation.py?line=5'>6</a>\u001b[0m \u001b[39mdef\u001b[39;00m \u001b[39mdepth_approximation\u001b[39m(z,\n\u001b[1;32m      <a href='file:///Users/DELL/Documents/GitHub/gmf/depth/multivariate/Depth_approximation.py?line=6'>7</a>\u001b[0m                         X,\n\u001b[1;32m      <a href='file:///Users/DELL/Documents/GitHub/gmf/depth/multivariate/Depth_approximation.py?line=7'>8</a>\u001b[0m                         notion \u001b[39m=\u001b[39m \u001b[39m\"\u001b[39m\u001b[39mhalfspace\u001b[39m\u001b[39m\"\u001b[39m,\n\u001b[0;32m   (...)\u001b[0m\n\u001b[1;32m     <a href='file:///Users/DELL/Documents/GitHub/gmf/depth/multivariate/Depth_approximation.py?line=18'>19</a>\u001b[0m                         line_solver \u001b[39m=\u001b[39m \u001b[39m\"\u001b[39m\u001b[39mgoldensection\u001b[39m\u001b[39m\"\u001b[39m,\n\u001b[1;32m     <a href='file:///Users/DELL/Documents/GitHub/gmf/depth/multivariate/Depth_approximation.py?line=19'>20</a>\u001b[0m                         bound_gc \u001b[39m=\u001b[39m \u001b[39mTrue\u001b[39;00m):\n",
      "File \u001b[0;32m~/Documents/GitHub/gmf/depth/multivariate/import_CDLL.py:53\u001b[0m\n\u001b[1;32m     <a href='file:///Users/DELL/Documents/GitHub/gmf/depth/multivariate/import_CDLL.py?line=48'>49</a>\u001b[0m                 libRom \u001b[39m=\u001b[39m ct\u001b[39m.\u001b[39mCDLL(\u001b[39mr\u001b[39m\u001b[39m\"\u001b[39m\u001b[39m\"\u001b[39m \u001b[39m+\u001b[39m ddalpha_approx[\u001b[39m0\u001b[39m])\n\u001b[1;32m     <a href='file:///Users/DELL/Documents/GitHub/gmf/depth/multivariate/import_CDLL.py?line=49'>50</a>\u001b[0m     \u001b[39mreturn\u001b[39;00m libr, libRom\n\u001b[0;32m---> <a href='file:///Users/DELL/Documents/GitHub/gmf/depth/multivariate/import_CDLL.py?line=52'>53</a>\u001b[0m libr, libRom \u001b[39m=\u001b[39m import_CDLL()\n",
      "File \u001b[0;32m~/Documents/GitHub/gmf/depth/multivariate/import_CDLL.py:36\u001b[0m, in \u001b[0;36mimport_CDLL\u001b[0;34m()\u001b[0m\n\u001b[1;32m     <a href='file:///Users/DELL/Documents/GitHub/gmf/depth/multivariate/import_CDLL.py?line=33'>34</a>\u001b[0m                 ddalpha_exact \u001b[39m=\u001b[39m glob\u001b[39m.\u001b[39mglob(i \u001b[39m+\u001b[39m \u001b[39m\"\u001b[39m\u001b[39m/*ddalpha*.so\u001b[39m\u001b[39m\"\u001b[39m)\n\u001b[1;32m     <a href='file:///Users/DELL/Documents/GitHub/gmf/depth/multivariate/import_CDLL.py?line=34'>35</a>\u001b[0m                 ddalpha_approx \u001b[39m=\u001b[39m glob\u001b[39m.\u001b[39mglob(i \u001b[39m+\u001b[39m \u001b[39m\"\u001b[39m\u001b[39m/*depth_wrapper*.so\u001b[39m\u001b[39m\"\u001b[39m)\n\u001b[0;32m---> <a href='file:///Users/DELL/Documents/GitHub/gmf/depth/multivariate/import_CDLL.py?line=35'>36</a>\u001b[0m     libr \u001b[39m=\u001b[39m ct\u001b[39m.\u001b[39mCDLL(ddalpha_exact[\u001b[39m0\u001b[39m])\n\u001b[1;32m     <a href='file:///Users/DELL/Documents/GitHub/gmf/depth/multivariate/import_CDLL.py?line=36'>37</a>\u001b[0m     libRom \u001b[39m=\u001b[39m ct\u001b[39m.\u001b[39mCDLL(ddalpha_approx[\u001b[39m0\u001b[39m])\n\u001b[1;32m     <a href='file:///Users/DELL/Documents/GitHub/gmf/depth/multivariate/import_CDLL.py?line=38'>39</a>\u001b[0m \u001b[39mif\u001b[39;00m sys\u001b[39m.\u001b[39mplatform \u001b[39m==\u001b[39m \u001b[39m\"\u001b[39m\u001b[39mwin32\u001b[39m\u001b[39m\"\u001b[39m:\n",
      "\u001b[0;31mUnboundLocalError\u001b[0m: local variable 'ddalpha_exact' referenced before assignment"
     ]
    }
   ],
   "source": [
    "from depth.multivariate import *\n",
    "mat1=[[1, 0, 0, 0, 0],[0, 2, 0, 0, 0],[0, 0, 3, 0, 0],[0, 0, 0, 2, 0],[0, 0, 0, 0, 1]]\n",
    "mat2=[[1, 0, 0, 0, 0],[0, 1, 0, 0, 0],[0, 0, 1, 0, 0],[0, 0, 0, 1, 0],[0, 0, 0, 0, 1]]\n",
    "x = np.random.multivariate_normal([1,1,1,1,1], mat2, 10)\n",
    "data = np.random.multivariate_normal([0,0,0,0,0], mat1, 1000)\n",
    "mahalanobis(x, data)"
   ]
  },
  {
   "cell_type": "code",
   "execution_count": null,
   "metadata": {},
   "outputs": [],
   "source": []
  }
 ],
 "metadata": {
  "interpreter": {
   "hash": "b0fa6594d8f4cbf19f97940f81e996739fb7646882a419484c72d19e05852a7e"
  },
  "kernelspec": {
   "display_name": "Python 3.8.13 64-bit",
   "language": "python",
   "name": "python3"
  },
  "language_info": {
   "codemirror_mode": {
    "name": "ipython",
    "version": 3
   },
   "file_extension": ".py",
   "mimetype": "text/x-python",
   "name": "python",
   "nbconvert_exporter": "python",
   "pygments_lexer": "ipython3",
   "version": "3.8.13"
  },
  "orig_nbformat": 4
 },
 "nbformat": 4,
 "nbformat_minor": 2
}

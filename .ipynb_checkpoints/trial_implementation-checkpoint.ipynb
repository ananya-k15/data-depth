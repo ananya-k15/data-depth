{
 "cells": [
  {
   "cell_type": "code",
   "execution_count": null,
   "id": "55b36281-c303-4ef9-a542-0700cf81d355",
   "metadata": {},
   "outputs": [],
   "source": [
    "import numpy as np\n",
    "import pandas as pd\n",
    "import tensorflow as tf\n",
    "from tensorflow.keras import layers, Model, Input"
   ]
  },
  {
   "cell_type": "code",
   "execution_count": null,
   "id": "0699de53-1f0d-4c26-9d03-32a1f8b6f81d",
   "metadata": {},
   "outputs": [],
   "source": [
    "# Load your dataset\n",
    "data = datasets.MNIST(root='./data', train=True, transform=transform, download=False)\n",
    "data = data.values\n",
    "\n",
    "# Define the dimensions\n",
    "original_dim = data.shape[1]\n",
    "latent_dim = 3\n",
    "\n",
    "# Encoder\n",
    "inputs = Input(shape=(original_dim,))\n",
    "h = layers.Dense(64, activation='relu')(inputs)\n",
    "h = layers.Dense(32, activation='relu')(h)\n",
    "z_mean = layers.Dense(latent_dim)(h)\n",
    "z_log_var = layers.Dense(latent_dim)(h)\n",
    "\n",
    "# Sampling function\n",
    "def sampling(args):\n",
    "    z_mean, z_log_var = args\n",
    "    batch = tf.shape(z_mean)[0]\n",
    "    dim = tf.shape(z_mean)[1]\n",
    "    epsilon = tf.keras.backend.random_normal(shape=(batch, dim))\n",
    "    return z_mean + tf.exp(0.5 * z_log_var) * epsilon\n",
    "\n",
    "# Latent space\n",
    "z = layers.Lambda(sampling, output_shape=(latent_dim,))([z_mean, z_log_var])\n",
    "\n",
    "# Decoder\n",
    "decoder_h = layers.Dense(32, activation='relu')\n",
    "decoder_h2 = layers.Dense(64, activation='relu')\n",
    "decoder_mean = layers.Dense(original_dim, activation='sigmoid')\n",
    "\n",
    "h_decoded = decoder_h(z)\n",
    "h_decoded2 = decoder_h2(h_decoded)\n",
    "x_decoded_mean = decoder_mean(h_decoded2)\n",
    "\n",
    "# Define the VAE model\n",
    "vae = Model(inputs, x_decoded_mean)\n",
    "\n",
    "# Define the loss\n",
    "reconstruction_loss = tf.keras.losses.mean_squared_error(inputs, x_decoded_mean)\n",
    "reconstruction_loss *= original_dim\n",
    "kl_loss = 1 + z_log_var - tf.square(z_mean) - tf.exp(z_log_var)\n",
    "kl_loss = tf.reduce_sum(kl_loss, axis=-1)\n",
    "kl_loss *= -0.5\n",
    "vae_loss = tf.reduce_mean(reconstruction_loss + kl_loss)\n",
    "\n",
    "vae.add_loss(vae_loss)\n",
    "vae.compile(optimizer='adam')\n",
    "\n",
    "# Train the VAE\n",
    "vae.fit(data, data, epochs=50, batch_size=32, validation_split=0.2)"
   ]
  },
  {
   "cell_type": "code",
   "execution_count": null,
   "id": "0ae00cb0-fac8-4804-9451-0743c315763a",
   "metadata": {},
   "outputs": [],
   "source": []
  }
 ],
 "metadata": {
  "kernelspec": {
   "display_name": "Python 3 (ipykernel)",
   "language": "python",
   "name": "python3"
  },
  "language_info": {
   "codemirror_mode": {
    "name": "ipython",
    "version": 3
   },
   "file_extension": ".py",
   "mimetype": "text/x-python",
   "name": "python",
   "nbconvert_exporter": "python",
   "pygments_lexer": "ipython3",
   "version": "3.9.19"
  }
 },
 "nbformat": 4,
 "nbformat_minor": 5
}

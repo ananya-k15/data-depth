{
 "cells": [
  {
   "cell_type": "code",
   "execution_count": 1,
   "metadata": {},
   "outputs": [
    {
     "name": "stdout",
     "output_type": "stream",
     "text": [
      "Requirement already satisfied: scikit-learn in /Users/DELL/opt/anaconda3/lib/python3.9/site-packages (0.24.2)\n",
      "Collecting scikit-learn\n",
      "  Downloading scikit_learn-1.5.0-cp39-cp39-macosx_10_9_x86_64.whl (12.1 MB)\n",
      "\u001b[K     |████████████████████████████████| 12.1 MB 4.4 MB/s eta 0:00:01\n",
      "\u001b[?25hRequirement already satisfied: scipy in /Users/DELL/opt/anaconda3/lib/python3.9/site-packages (1.7.1)\n",
      "Collecting scipy\n",
      "  Downloading scipy-1.13.1-cp39-cp39-macosx_10_9_x86_64.whl (39.4 MB)\n",
      "\u001b[K     |████████████████████████████████| 39.4 MB 26.6 MB/s eta 0:00:01\n",
      "\u001b[?25hRequirement already satisfied: matplotlib in /Users/DELL/opt/anaconda3/lib/python3.9/site-packages (3.9.0)\n",
      "Collecting threadpoolctl>=3.1.0\n",
      "  Using cached threadpoolctl-3.5.0-py3-none-any.whl (18 kB)\n",
      "Requirement already satisfied: numpy>=1.19.5 in /Users/DELL/opt/anaconda3/lib/python3.9/site-packages (from scikit-learn) (1.22.4)\n",
      "Collecting joblib>=1.2.0\n",
      "  Using cached joblib-1.4.2-py3-none-any.whl (301 kB)\n",
      "Requirement already satisfied: pyparsing>=2.3.1 in /Users/DELL/opt/anaconda3/lib/python3.9/site-packages (from matplotlib) (3.0.4)\n",
      "Requirement already satisfied: python-dateutil>=2.7 in /Users/DELL/opt/anaconda3/lib/python3.9/site-packages (from matplotlib) (2.8.2)\n",
      "Requirement already satisfied: cycler>=0.10 in /Users/DELL/opt/anaconda3/lib/python3.9/site-packages (from matplotlib) (0.10.0)\n",
      "Collecting numpy>=1.19.5\n",
      "  Downloading numpy-2.0.0-cp39-cp39-macosx_10_9_x86_64.whl (21.2 MB)\n",
      "\u001b[K     |████████████████████████████████| 21.2 MB 30.4 MB/s eta 0:00:01\n",
      "\u001b[?25hRequirement already satisfied: contourpy>=1.0.1 in /Users/DELL/opt/anaconda3/lib/python3.9/site-packages (from matplotlib) (1.2.1)\n",
      "Requirement already satisfied: pillow>=8 in /Users/DELL/opt/anaconda3/lib/python3.9/site-packages (from matplotlib) (8.4.0)\n",
      "Requirement already satisfied: fonttools>=4.22.0 in /Users/DELL/opt/anaconda3/lib/python3.9/site-packages (from matplotlib) (4.25.0)\n",
      "Requirement already satisfied: kiwisolver>=1.3.1 in /Users/DELL/opt/anaconda3/lib/python3.9/site-packages (from matplotlib) (1.3.1)\n",
      "Requirement already satisfied: importlib-resources>=3.2.0 in /Users/DELL/opt/anaconda3/lib/python3.9/site-packages (from matplotlib) (6.4.0)\n",
      "Requirement already satisfied: packaging>=20.0 in /Users/DELL/opt/anaconda3/lib/python3.9/site-packages (from matplotlib) (21.3)\n",
      "Requirement already satisfied: six in /Users/DELL/opt/anaconda3/lib/python3.9/site-packages (from cycler>=0.10->matplotlib) (1.16.0)\n",
      "Requirement already satisfied: zipp>=3.1.0 in /Users/DELL/opt/anaconda3/lib/python3.9/site-packages (from importlib-resources>=3.2.0->matplotlib) (3.6.0)\n",
      "Installing collected packages: numpy, threadpoolctl, scipy, joblib, scikit-learn\n",
      "  Attempting uninstall: numpy\n",
      "    Found existing installation: numpy 1.22.4\n",
      "    Uninstalling numpy-1.22.4:\n",
      "      Successfully uninstalled numpy-1.22.4\n",
      "  Attempting uninstall: threadpoolctl\n",
      "    Found existing installation: threadpoolctl 2.2.0\n",
      "    Uninstalling threadpoolctl-2.2.0:\n",
      "      Successfully uninstalled threadpoolctl-2.2.0\n",
      "  Attempting uninstall: scipy\n",
      "    Found existing installation: scipy 1.7.1\n",
      "    Uninstalling scipy-1.7.1:\n",
      "      Successfully uninstalled scipy-1.7.1\n",
      "  Attempting uninstall: joblib\n",
      "    Found existing installation: joblib 1.1.0\n",
      "    Uninstalling joblib-1.1.0:\n",
      "      Successfully uninstalled joblib-1.1.0\n",
      "  Attempting uninstall: scikit-learn\n",
      "    Found existing installation: scikit-learn 0.24.2\n",
      "    Uninstalling scikit-learn-0.24.2:\n",
      "      Successfully uninstalled scikit-learn-0.24.2\n",
      "\u001b[31mERROR: pip's dependency resolver does not currently take into account all the packages that are installed. This behaviour is the source of the following dependency conflicts.\n",
      "daal4py 2021.3.0 requires daal==2021.2.3, which is not installed.\n",
      "numba 0.54.1 requires numpy<1.21,>=1.17, but you have numpy 2.0.0 which is incompatible.\n",
      "dashboard-engine 1.0.2 requires numpy<=1.20.0, but you have numpy 2.0.0 which is incompatible.\u001b[0m\n",
      "Successfully installed joblib-1.4.2 numpy-2.0.0 scikit-learn-1.5.0 scipy-1.13.1 threadpoolctl-3.5.0\n",
      "Note: you may need to restart the kernel to use updated packages.\n"
     ]
    }
   ],
   "source": [
    "pip install -U scikit-learn scipy matplotlib"
   ]
  },
  {
   "cell_type": "code",
   "execution_count": 2,
   "metadata": {},
   "outputs": [],
   "source": [
    "!export ARCHFLAGS=\"-arch arm64\""
   ]
  },
  {
   "cell_type": "code",
   "execution_count": 3,
   "metadata": {},
   "outputs": [
    {
     "name": "stdout",
     "output_type": "stream",
     "text": [
      "running clean\n",
      "removing 'build/temp.macosx-10.9-x86_64-3.9' (and everything under it)\n",
      "removing 'build/lib.macosx-10.9-x86_64-3.9' (and everything under it)\n",
      "removing 'build/bdist.macosx-10.9-x86_64' (and everything under it)\n",
      "'build/scripts-3.9' does not exist -- can't clean it\n",
      "removing 'build'\n",
      "running install\n",
      "running bdist_egg\n",
      "running egg_info\n",
      "writing data_depth.egg-info/PKG-INFO\n",
      "writing dependency_links to data_depth.egg-info/dependency_links.txt\n",
      "writing requirements to data_depth.egg-info/requires.txt\n",
      "writing top-level names to data_depth.egg-info/top_level.txt\n",
      "reading manifest file 'data_depth.egg-info/SOURCES.txt'\n",
      "reading manifest template 'MANIFEST.in'\n",
      "warning: no files found matching './UNIX/ddalpha.so'\n",
      "warning: no files found matching './UNIX/depth_wrapper.so'\n",
      "warning: no files found matching '*.dll' under directory './depth/Win64'\n",
      "warning: no files found matching '*.dll' under directory './depth/Win32'\n",
      "warning: no files found matching '*.so' under directory './depth/UNIX'\n",
      "writing manifest file 'data_depth.egg-info/SOURCES.txt'\n",
      "installing library code to build/bdist.macosx-10.9-x86_64/egg\n",
      "running install_lib\n",
      "running build_py\n",
      "creating build\n",
      "creating build/lib.macosx-10.9-x86_64-3.9\n",
      "creating build/lib.macosx-10.9-x86_64-3.9/depth\n",
      "copying depth/conf.py -> build/lib.macosx-10.9-x86_64-3.9/depth\n",
      "copying depth/__init__.py -> build/lib.macosx-10.9-x86_64-3.9/depth\n",
      "creating build/lib.macosx-10.9-x86_64-3.9/depth/multivariate\n",
      "copying depth/multivariate/MCD.py -> build/lib.macosx-10.9-x86_64-3.9/depth/multivariate\n",
      "copying depth/multivariate/plot.py -> build/lib.macosx-10.9-x86_64-3.9/depth/multivariate\n",
      "copying depth/multivariate/L2.py -> build/lib.macosx-10.9-x86_64-3.9/depth/multivariate\n",
      "copying depth/multivariate/Aprojection.py -> build/lib.macosx-10.9-x86_64-3.9/depth/multivariate\n",
      "copying depth/multivariate/SimplicialVolume.py -> build/lib.macosx-10.9-x86_64-3.9/depth/multivariate\n",
      "copying depth/multivariate/Halfspace.py -> build/lib.macosx-10.9-x86_64-3.9/depth/multivariate\n",
      "copying depth/multivariate/__init__.py -> build/lib.macosx-10.9-x86_64-3.9/depth/multivariate\n",
      "copying depth/multivariate/BetaSkeleton.py -> build/lib.macosx-10.9-x86_64-3.9/depth/multivariate\n",
      "copying depth/multivariate/Simplicial.py -> build/lib.macosx-10.9-x86_64-3.9/depth/multivariate\n",
      "copying depth/multivariate/Spatial.py -> build/lib.macosx-10.9-x86_64-3.9/depth/multivariate\n",
      "copying depth/multivariate/Zonoid.py -> build/lib.macosx-10.9-x86_64-3.9/depth/multivariate\n",
      "copying depth/multivariate/Mahalanobis.py -> build/lib.macosx-10.9-x86_64-3.9/depth/multivariate\n",
      "copying depth/multivariate/import_CDLL.py -> build/lib.macosx-10.9-x86_64-3.9/depth/multivariate\n",
      "copying depth/multivariate/Qhpeeling.py -> build/lib.macosx-10.9-x86_64-3.9/depth/multivariate\n",
      "copying depth/multivariate/Potential.py -> build/lib.macosx-10.9-x86_64-3.9/depth/multivariate\n",
      "copying depth/multivariate/Projection.py -> build/lib.macosx-10.9-x86_64-3.9/depth/multivariate\n",
      "copying depth/multivariate/Depth_approximation.py -> build/lib.macosx-10.9-x86_64-3.9/depth/multivariate\n",
      "creating build/lib.macosx-10.9-x86_64-3.9/depth/src\n",
      "copying depth/src/ddalpha.cpp -> build/lib.macosx-10.9-x86_64-3.9/depth/src\n",
      "copying depth/src/depth_wrapper.cpp -> build/lib.macosx-10.9-x86_64-3.9/depth/src\n",
      "copying depth/multivariate/Aprojection.rst -> build/lib.macosx-10.9-x86_64-3.9/depth/multivariate\n",
      "copying depth/multivariate/BetaSkeleton.rst -> build/lib.macosx-10.9-x86_64-3.9/depth/multivariate\n",
      "copying depth/multivariate/Halfspace.rst -> build/lib.macosx-10.9-x86_64-3.9/depth/multivariate\n",
      "copying depth/multivariate/L2.rst -> build/lib.macosx-10.9-x86_64-3.9/depth/multivariate\n",
      "copying depth/multivariate/Mahalanobis.rst -> build/lib.macosx-10.9-x86_64-3.9/depth/multivariate\n",
      "copying depth/multivariate/Potential.rst -> build/lib.macosx-10.9-x86_64-3.9/depth/multivariate\n",
      "copying depth/multivariate/Projection.rst -> build/lib.macosx-10.9-x86_64-3.9/depth/multivariate\n",
      "copying depth/multivariate/Qhpeeling.rst -> build/lib.macosx-10.9-x86_64-3.9/depth/multivariate\n",
      "copying depth/multivariate/Simplicial.rst -> build/lib.macosx-10.9-x86_64-3.9/depth/multivariate\n",
      "copying depth/multivariate/SimplicialVolume.rst -> build/lib.macosx-10.9-x86_64-3.9/depth/multivariate\n",
      "copying depth/multivariate/Spatial.rst -> build/lib.macosx-10.9-x86_64-3.9/depth/multivariate\n",
      "copying depth/multivariate/Zonoid.rst -> build/lib.macosx-10.9-x86_64-3.9/depth/multivariate\n",
      "copying depth/multivariate/credits.rst -> build/lib.macosx-10.9-x86_64-3.9/depth/multivariate\n",
      "copying depth/multivariate/introduction.rst -> build/lib.macosx-10.9-x86_64-3.9/depth/multivariate\n",
      "copying depth/multivariate/license.rst -> build/lib.macosx-10.9-x86_64-3.9/depth/multivariate\n",
      "copying depth/multivariate/modules.rst -> build/lib.macosx-10.9-x86_64-3.9/depth/multivariate\n",
      "running build_ext\n",
      "building 'ddalpha' extension\n",
      "creating build/temp.macosx-10.9-x86_64-3.9\n",
      "creating build/temp.macosx-10.9-x86_64-3.9/depth\n",
      "creating build/temp.macosx-10.9-x86_64-3.9/depth/src\n",
      "g++ -fpic -I/Users/DELL/opt/anaconda3/include/python3.9 -c depth/src/ddalpha.cpp -o build/temp.macosx-10.9-x86_64-3.9/depth/src/ddalpha.o -I. -std=c++14 -fPIC -O2\n",
      "g++ -Wl, -shared -lstdc++ -arch x86_64 build/temp.macosx-10.9-x86_64-3.9/depth/src/ddalpha.o -lm -o build/lib.macosx-10.9-x86_64-3.9/ddalpha.cpython-39-darwin.so -rdynamic -std=c++14 -fPIC\n",
      "ld: warning: ignoring duplicate libraries: '-lc++'\n",
      "building 'depth_wrapper' extension\n",
      "g++ -fpic -I/Users/DELL/opt/anaconda3/include/python3.9 -c depth/src/depth_wrapper.cpp -o build/temp.macosx-10.9-x86_64-3.9/depth/src/depth_wrapper.o -I. -std=c++14 -fPIC -O2\n",
      "In file included from depth/src/depth_wrapper.cpp:6:\n",
      "\u001b[1mdepth/src/Matrix.cpp:62:32: \u001b[0m\u001b[0;1;35mwarning: \u001b[0m\u001b[1munqualified call to 'std::move' [-Wunqualified-std-cast-call]\u001b[0m\n",
      "                : m{ A.m }, n{ A.n }, elems{ move(A.elems) } {\n",
      "\u001b[0;1;32m                                             ^\n",
      "\u001b[0m\u001b[0;32m                                             std::\n",
      "\u001b[0m\u001b[1mdepth/src/Matrix.cpp:69:11: \u001b[0m\u001b[0;1;35mwarning: \u001b[0m\u001b[1munqualified call to 'std::move' [-Wunqualified-std-cast-call]\u001b[0m\n",
      "                elems = move(A.elems);\n",
      "\u001b[0;1;32m                        ^\n",
      "\u001b[0m\u001b[0;32m                        std::\n",
      "\u001b[0m\u001b[1mdepth/src/Matrix.cpp:312:22: \u001b[0m\u001b[0;1;35mwarning: \u001b[0m\u001b[1munqualified call to 'std::move' [-Wunqualified-std-cast-call]\u001b[0m\n",
      "                cMatrix::operator=(move(A));\n",
      "\u001b[0;1;32m                                   ^\n",
      "\u001b[0m\u001b[0;32m                                   std::\n",
      "\u001b[0mIn file included from depth/src/depth_wrapper.cpp:10:\n",
      "\u001b[1mdepth/src/ProjectionDepths.cpp:304:12: \u001b[0m\u001b[0;1;35mwarning: \u001b[0m\u001b[1munqualified call to 'std::move' [-Wunqualified-std-cast-call]\u001b[0m\n",
      "                                uOpt = move(u);\n",
      "\u001b[0;1;32m                                       ^\n",
      "\u001b[0m\u001b[0;32m                                       std::\n",
      "\u001b[0m\u001b[1mdepth/src/ProjectionDepths.cpp:556:9: \u001b[0m\u001b[0;1;35mwarning: \u001b[0m\u001b[1munqualified call to 'std::move' [-Wunqualified-std-cast-call]\u001b[0m\n",
      "                                u = move(uNew);\n",
      "\u001b[0;1;32m                                    ^\n",
      "\u001b[0m\u001b[0;32m                                    std::\n",
      "\u001b[0m\u001b[1mdepth/src/ProjectionDepths.cpp:638:12: \u001b[0m\u001b[0;1;35mwarning: \u001b[0m\u001b[1munqualified call to 'std::move' [-Wunqualified-std-cast-call]\u001b[0m\n",
      "                                uOpt = move(w);\n",
      "\u001b[0;1;32m                                       ^\n",
      "\u001b[0m\u001b[0;32m                                       std::\n",
      "\u001b[0m\u001b[1mdepth/src/ProjectionDepths.cpp:838:12: \u001b[0m\u001b[0;1;35mwarning: \u001b[0m\u001b[1munqualified call to 'std::move' [-Wunqualified-std-cast-call]\u001b[0m\n",
      "                                uOpt = move(w);\n",
      "\u001b[0;1;32m                                       ^\n",
      "\u001b[0m\u001b[0;32m                                       std::\n",
      "\u001b[0m\u001b[1mdepth/src/ProjectionDepths.cpp:1373:20: \u001b[0m\u001b[0;1;35mwarning: \u001b[0m\u001b[1munqualified call to 'std::move' [-Wunqualified-std-cast-call]\u001b[0m\n",
      "                        fevals[d - 1] = move(x_r); // Reflection\n",
      "\u001b[0;1;32m                                        ^\n",
      "\u001b[0m\u001b[0;32m                                        std::\n",
      "\u001b[0m\u001b[1mdepth/src/ProjectionDepths.cpp:1381:44: \u001b[0m\u001b[0;1;35mwarning: \u001b[0m\u001b[1munqualified call to 'std::move' [-Wunqualified-std-cast-call]\u001b[0m\n",
      "                                if (x_e.val < x_r.val) fevals[d - 1] = move(x_e);\n",
      "\u001b[0;1;32m                                                                       ^\n",
      "\u001b[0m\u001b[0;32m                                                                       std::\n",
      "\u001b[0m\u001b[1mdepth/src/ProjectionDepths.cpp:1382:26: \u001b[0m\u001b[0;1;35mwarning: \u001b[0m\u001b[1munqualified call to 'std::move' [-Wunqualified-std-cast-call]\u001b[0m\n",
      "                                else fevals[d - 1] = move(x_r);\n",
      "\u001b[0;1;32m                                                     ^\n",
      "\u001b[0m\u001b[0;32m                                                     std::\n",
      "\u001b[0m\u001b[1mdepth/src/ProjectionDepths.cpp:1393:22: \u001b[0m\u001b[0;1;35mwarning: \u001b[0m\u001b[1munqualified call to 'std::move' [-Wunqualified-std-cast-call]\u001b[0m\n",
      "                                        fevals[d - 1] = move(x_c);\n",
      "\u001b[0;1;32m                                                        ^\n",
      "\u001b[0m\u001b[0;32m                                                        std::\n"
     ]
    },
    {
     "name": "stdout",
     "output_type": "stream",
     "text": [
      "\u001b[0m11 warnings generated.\n",
      "g++ -Wl, -shared -lstdc++ -arch x86_64 build/temp.macosx-10.9-x86_64-3.9/depth/src/depth_wrapper.o -lm -o build/lib.macosx-10.9-x86_64-3.9/depth_wrapper.cpython-39-darwin.so -rdynamic -std=c++14 -fPIC\n",
      "ld: warning: ignoring duplicate libraries: '-lc++'\n",
      "creating build/bdist.macosx-10.9-x86_64\n",
      "creating build/bdist.macosx-10.9-x86_64/egg\n",
      "copying build/lib.macosx-10.9-x86_64-3.9/ddalpha.cpython-39-darwin.so -> build/bdist.macosx-10.9-x86_64/egg\n",
      "copying build/lib.macosx-10.9-x86_64-3.9/depth_wrapper.cpython-39-darwin.so -> build/bdist.macosx-10.9-x86_64/egg\n",
      "creating build/bdist.macosx-10.9-x86_64/egg/depth\n",
      "creating build/bdist.macosx-10.9-x86_64/egg/depth/multivariate\n",
      "copying build/lib.macosx-10.9-x86_64-3.9/depth/multivariate/MCD.py -> build/bdist.macosx-10.9-x86_64/egg/depth/multivariate\n",
      "copying build/lib.macosx-10.9-x86_64-3.9/depth/multivariate/L2.rst -> build/bdist.macosx-10.9-x86_64/egg/depth/multivariate\n",
      "copying build/lib.macosx-10.9-x86_64-3.9/depth/multivariate/Potential.rst -> build/bdist.macosx-10.9-x86_64/egg/depth/multivariate\n",
      "copying build/lib.macosx-10.9-x86_64-3.9/depth/multivariate/plot.py -> build/bdist.macosx-10.9-x86_64/egg/depth/multivariate\n",
      "copying build/lib.macosx-10.9-x86_64-3.9/depth/multivariate/L2.py -> build/bdist.macosx-10.9-x86_64/egg/depth/multivariate\n",
      "copying build/lib.macosx-10.9-x86_64-3.9/depth/multivariate/Aprojection.py -> build/bdist.macosx-10.9-x86_64/egg/depth/multivariate\n",
      "copying build/lib.macosx-10.9-x86_64-3.9/depth/multivariate/SimplicialVolume.py -> build/bdist.macosx-10.9-x86_64/egg/depth/multivariate\n",
      "copying build/lib.macosx-10.9-x86_64-3.9/depth/multivariate/Halfspace.rst -> build/bdist.macosx-10.9-x86_64/egg/depth/multivariate\n",
      "copying build/lib.macosx-10.9-x86_64-3.9/depth/multivariate/Qhpeeling.rst -> build/bdist.macosx-10.9-x86_64/egg/depth/multivariate\n",
      "copying build/lib.macosx-10.9-x86_64-3.9/depth/multivariate/Halfspace.py -> build/bdist.macosx-10.9-x86_64/egg/depth/multivariate\n",
      "copying build/lib.macosx-10.9-x86_64-3.9/depth/multivariate/SimplicialVolume.rst -> build/bdist.macosx-10.9-x86_64/egg/depth/multivariate\n",
      "copying build/lib.macosx-10.9-x86_64-3.9/depth/multivariate/__init__.py -> build/bdist.macosx-10.9-x86_64/egg/depth/multivariate\n",
      "copying build/lib.macosx-10.9-x86_64-3.9/depth/multivariate/BetaSkeleton.rst -> build/bdist.macosx-10.9-x86_64/egg/depth/multivariate\n",
      "copying build/lib.macosx-10.9-x86_64-3.9/depth/multivariate/BetaSkeleton.py -> build/bdist.macosx-10.9-x86_64/egg/depth/multivariate\n",
      "copying build/lib.macosx-10.9-x86_64-3.9/depth/multivariate/Simplicial.py -> build/bdist.macosx-10.9-x86_64/egg/depth/multivariate\n",
      "copying build/lib.macosx-10.9-x86_64-3.9/depth/multivariate/Spatial.py -> build/bdist.macosx-10.9-x86_64/egg/depth/multivariate\n",
      "copying build/lib.macosx-10.9-x86_64-3.9/depth/multivariate/Zonoid.rst -> build/bdist.macosx-10.9-x86_64/egg/depth/multivariate\n",
      "copying build/lib.macosx-10.9-x86_64-3.9/depth/multivariate/Mahalanobis.rst -> build/bdist.macosx-10.9-x86_64/egg/depth/multivariate\n",
      "copying build/lib.macosx-10.9-x86_64-3.9/depth/multivariate/modules.rst -> build/bdist.macosx-10.9-x86_64/egg/depth/multivariate\n",
      "copying build/lib.macosx-10.9-x86_64-3.9/depth/multivariate/Zonoid.py -> build/bdist.macosx-10.9-x86_64/egg/depth/multivariate\n",
      "copying build/lib.macosx-10.9-x86_64-3.9/depth/multivariate/Mahalanobis.py -> build/bdist.macosx-10.9-x86_64/egg/depth/multivariate\n",
      "copying build/lib.macosx-10.9-x86_64-3.9/depth/multivariate/import_CDLL.py -> build/bdist.macosx-10.9-x86_64/egg/depth/multivariate\n",
      "copying build/lib.macosx-10.9-x86_64-3.9/depth/multivariate/Qhpeeling.py -> build/bdist.macosx-10.9-x86_64/egg/depth/multivariate\n",
      "copying build/lib.macosx-10.9-x86_64-3.9/depth/multivariate/Projection.rst -> build/bdist.macosx-10.9-x86_64/egg/depth/multivariate\n",
      "copying build/lib.macosx-10.9-x86_64-3.9/depth/multivariate/Potential.py -> build/bdist.macosx-10.9-x86_64/egg/depth/multivariate\n",
      "copying build/lib.macosx-10.9-x86_64-3.9/depth/multivariate/license.rst -> build/bdist.macosx-10.9-x86_64/egg/depth/multivariate\n",
      "copying build/lib.macosx-10.9-x86_64-3.9/depth/multivariate/Simplicial.rst -> build/bdist.macosx-10.9-x86_64/egg/depth/multivariate\n",
      "copying build/lib.macosx-10.9-x86_64-3.9/depth/multivariate/Aprojection.rst -> build/bdist.macosx-10.9-x86_64/egg/depth/multivariate\n",
      "copying build/lib.macosx-10.9-x86_64-3.9/depth/multivariate/introduction.rst -> build/bdist.macosx-10.9-x86_64/egg/depth/multivariate\n",
      "copying build/lib.macosx-10.9-x86_64-3.9/depth/multivariate/Projection.py -> build/bdist.macosx-10.9-x86_64/egg/depth/multivariate\n",
      "copying build/lib.macosx-10.9-x86_64-3.9/depth/multivariate/Spatial.rst -> build/bdist.macosx-10.9-x86_64/egg/depth/multivariate\n",
      "copying build/lib.macosx-10.9-x86_64-3.9/depth/multivariate/Depth_approximation.py -> build/bdist.macosx-10.9-x86_64/egg/depth/multivariate\n",
      "copying build/lib.macosx-10.9-x86_64-3.9/depth/multivariate/credits.rst -> build/bdist.macosx-10.9-x86_64/egg/depth/multivariate\n",
      "copying build/lib.macosx-10.9-x86_64-3.9/depth/conf.py -> build/bdist.macosx-10.9-x86_64/egg/depth\n",
      "copying build/lib.macosx-10.9-x86_64-3.9/depth/__init__.py -> build/bdist.macosx-10.9-x86_64/egg/depth\n",
      "creating build/bdist.macosx-10.9-x86_64/egg/depth/src\n",
      "copying build/lib.macosx-10.9-x86_64-3.9/depth/src/depth_wrapper.cpp -> build/bdist.macosx-10.9-x86_64/egg/depth/src\n",
      "copying build/lib.macosx-10.9-x86_64-3.9/depth/src/ddalpha.cpp -> build/bdist.macosx-10.9-x86_64/egg/depth/src\n",
      "byte-compiling build/bdist.macosx-10.9-x86_64/egg/depth/multivariate/MCD.py to MCD.cpython-39.pyc\n",
      "byte-compiling build/bdist.macosx-10.9-x86_64/egg/depth/multivariate/plot.py to plot.cpython-39.pyc\n",
      "byte-compiling build/bdist.macosx-10.9-x86_64/egg/depth/multivariate/L2.py to L2.cpython-39.pyc\n",
      "byte-compiling build/bdist.macosx-10.9-x86_64/egg/depth/multivariate/Aprojection.py to Aprojection.cpython-39.pyc\n",
      "byte-compiling build/bdist.macosx-10.9-x86_64/egg/depth/multivariate/SimplicialVolume.py to SimplicialVolume.cpython-39.pyc\n",
      "byte-compiling build/bdist.macosx-10.9-x86_64/egg/depth/multivariate/Halfspace.py to Halfspace.cpython-39.pyc\n",
      "byte-compiling build/bdist.macosx-10.9-x86_64/egg/depth/multivariate/__init__.py to __init__.cpython-39.pyc\n",
      "byte-compiling build/bdist.macosx-10.9-x86_64/egg/depth/multivariate/BetaSkeleton.py to BetaSkeleton.cpython-39.pyc\n",
      "byte-compiling build/bdist.macosx-10.9-x86_64/egg/depth/multivariate/Simplicial.py to Simplicial.cpython-39.pyc\n",
      "byte-compiling build/bdist.macosx-10.9-x86_64/egg/depth/multivariate/Spatial.py to Spatial.cpython-39.pyc\n",
      "byte-compiling build/bdist.macosx-10.9-x86_64/egg/depth/multivariate/Zonoid.py to Zonoid.cpython-39.pyc\n",
      "byte-compiling build/bdist.macosx-10.9-x86_64/egg/depth/multivariate/Mahalanobis.py to Mahalanobis.cpython-39.pyc\n",
      "byte-compiling build/bdist.macosx-10.9-x86_64/egg/depth/multivariate/import_CDLL.py to import_CDLL.cpython-39.pyc\n",
      "byte-compiling build/bdist.macosx-10.9-x86_64/egg/depth/multivariate/Qhpeeling.py to Qhpeeling.cpython-39.pyc\n",
      "byte-compiling build/bdist.macosx-10.9-x86_64/egg/depth/multivariate/Potential.py to Potential.cpython-39.pyc\n",
      "byte-compiling build/bdist.macosx-10.9-x86_64/egg/depth/multivariate/Projection.py to Projection.cpython-39.pyc\n",
      "byte-compiling build/bdist.macosx-10.9-x86_64/egg/depth/multivariate/Depth_approximation.py to Depth_approximation.cpython-39.pyc\n",
      "byte-compiling build/bdist.macosx-10.9-x86_64/egg/depth/conf.py to conf.cpython-39.pyc\n",
      "byte-compiling build/bdist.macosx-10.9-x86_64/egg/depth/__init__.py to __init__.cpython-39.pyc\n",
      "creating stub loader for ddalpha.cpython-39-darwin.so\n",
      "creating stub loader for depth_wrapper.cpython-39-darwin.so\n",
      "byte-compiling build/bdist.macosx-10.9-x86_64/egg/ddalpha.py to ddalpha.cpython-39.pyc\n",
      "byte-compiling build/bdist.macosx-10.9-x86_64/egg/depth_wrapper.py to depth_wrapper.cpython-39.pyc\n",
      "installing package data to build/bdist.macosx-10.9-x86_64/egg\n",
      "running install_data\n",
      "creating build/bdist.macosx-10.9-x86_64/egg/EGG-INFO\n",
      "copying data_depth.egg-info/PKG-INFO -> build/bdist.macosx-10.9-x86_64/egg/EGG-INFO\n",
      "copying data_depth.egg-info/SOURCES.txt -> build/bdist.macosx-10.9-x86_64/egg/EGG-INFO\n",
      "copying data_depth.egg-info/dependency_links.txt -> build/bdist.macosx-10.9-x86_64/egg/EGG-INFO\n",
      "copying data_depth.egg-info/not-zip-safe -> build/bdist.macosx-10.9-x86_64/egg/EGG-INFO\n",
      "copying data_depth.egg-info/requires.txt -> build/bdist.macosx-10.9-x86_64/egg/EGG-INFO\n",
      "copying data_depth.egg-info/top_level.txt -> build/bdist.macosx-10.9-x86_64/egg/EGG-INFO\n",
      "writing build/bdist.macosx-10.9-x86_64/egg/EGG-INFO/native_libs.txt\n",
      "creating 'dist/data_depth-1.0.0-py3.9-macosx-10.9-x86_64.egg' and adding 'build/bdist.macosx-10.9-x86_64/egg' to it\n",
      "error: [Errno 13] Permission denied: 'dist/data_depth-1.0.0-py3.9-macosx-10.9-x86_64.egg'\n"
     ]
    },
    {
     "name": "stdout",
     "output_type": "stream",
     "text": [
      "running build\r\n",
      "running build_py\r\n",
      "running egg_info\r\n",
      "writing data_depth.egg-info/PKG-INFO\r\n",
      "writing dependency_links to data_depth.egg-info/dependency_links.txt\r\n",
      "writing requirements to data_depth.egg-info/requires.txt\r\n",
      "writing top-level names to data_depth.egg-info/top_level.txt\r\n",
      "reading manifest file 'data_depth.egg-info/SOURCES.txt'\r\n",
      "reading manifest template 'MANIFEST.in'\r\n",
      "warning: no files found matching './UNIX/ddalpha.so'\r\n",
      "warning: no files found matching './UNIX/depth_wrapper.so'\r\n",
      "warning: no files found matching '*.dll' under directory './depth/Win64'\r\n",
      "warning: no files found matching '*.dll' under directory './depth/Win32'\r\n",
      "warning: no files found matching '*.so' under directory './depth/UNIX'\r\n",
      "writing manifest file 'data_depth.egg-info/SOURCES.txt'\r\n",
      "running build_ext\r\n"
     ]
    }
   ],
   "source": [
    "!python setup.py clean --all\n",
    "!python 'setup.py' install\n",
    "!python 'setup.py' build"
   ]
  },
  {
   "cell_type": "code",
   "execution_count": 4,
   "metadata": {},
   "outputs": [
    {
     "name": "stdout",
     "output_type": "stream",
     "text": [
      "build//bdist.macosx-10.9-x86_64/egg/ddalpha.cpython-39-darwin.so\r\n",
      "build//bdist.macosx-10.9-x86_64/egg/depth_wrapper.cpython-39-darwin.so\r\n",
      "build//lib.macosx-10.9-x86_64-3.9/ddalpha.cpython-39-darwin.so\r\n",
      "build//lib.macosx-10.9-x86_64-3.9/depth_wrapper.cpython-39-darwin.so\r\n"
     ]
    }
   ],
   "source": [
    "!find build/ -name \"*.so\""
   ]
  },
  {
   "cell_type": "code",
   "execution_count": 5,
   "metadata": {},
   "outputs": [],
   "source": [
    "import numpy as np\n",
    "import matplotlib.pyplot as plt"
   ]
  },
  {
   "cell_type": "markdown",
   "metadata": {},
   "source": [
    "## Create sample dataset\n",
    "We use the multivariate_normal function in numpy, using the speficiations given in the Anomaly detection paper."
   ]
  },
  {
   "cell_type": "code",
   "execution_count": 6,
   "metadata": {},
   "outputs": [],
   "source": [
    "mean1 = (1, 1)\n",
    "mean2 = (3.181, -0.222)\n",
    "cov1 = [[1, 1], [1, 2]]\n",
    "cov2 = [[i / 36 for i in j] for j in cov1]"
   ]
  },
  {
   "cell_type": "code",
   "execution_count": 7,
   "metadata": {},
   "outputs": [
    {
     "data": {
      "image/png": "[encoded data removed]",
      "text/plain": [
       "<Figure size 432x288 with 1 Axes>"
      ]
     },
     "metadata": {
      "needs_background": "light"
     },
     "output_type": "display_data"
    }
   ],
   "source": [
    "# use fixed random seed for reproducable results\n",
    "rng = np.random.default_rng(322180440709489274700185804004290683059)\n",
    "x, y = rng.multivariate_normal(mean1, cov1, 90).T\n",
    "anom_x, anom_y = rng.multivariate_normal(mean2, cov2, 10).T\n",
    "plt.plot(x, y, 'x')\n",
    "plt.plot(anom_x, anom_y, 'o')\n",
    "plt.axis('equal')\n",
    "plt.show()"
   ]
  },
  {
   "cell_type": "code",
   "execution_count": 8,
   "metadata": {},
   "outputs": [],
   "source": [
    "mat1=[[1, 0, 0, 0, 0],[0, 2, 0, 0, 0],[0, 0, 3, 0, 0],[0, 0, 0, 2, 0],[0, 0, 0, 0, 1]]\n",
    "mat2=[[1, 0, 0, 0, 0],[0, 1, 0, 0, 0],[0, 0, 1, 0, 0],[0, 0, 0, 1, 0],[0, 0, 0, 0, 1]]\n",
    "x = np.random.multivariate_normal([1,1,1,1,1], mat2, 10)\n",
    "data = np.random.multivariate_normal([0,0,0,0,0], mat1, 1000)"
   ]
  },
  {
   "cell_type": "code",
   "execution_count": 9,
   "metadata": {},
   "outputs": [
    {
     "name": "stdout",
     "output_type": "stream",
     "text": [
      "Found ddalpha_exact: []\n",
      "Found ddalpha_approx: []\n"
     ]
    },
    {
     "ename": "FileNotFoundError",
     "evalue": "Shared libraries not found",
     "output_type": "error",
     "traceback": [
      "\u001b[0;31m---------------------------------------------------------------------------\u001b[0m",
      "\u001b[0;31mFileNotFoundError\u001b[0m                         Traceback (most recent call last)",
      "\u001b[0;32m/var/folders/nw/k4ktl32d0lg5plcm2j1tprmm0000gn/T/ipykernel_31000/1030256493.py\u001b[0m in \u001b[0;36m<module>\u001b[0;34m\u001b[0m\n\u001b[0;32m----> 1\u001b[0;31m \u001b[0;32mfrom\u001b[0m \u001b[0mdepth\u001b[0m\u001b[0;34m.\u001b[0m\u001b[0mmultivariate\u001b[0m \u001b[0;32mimport\u001b[0m \u001b[0;34m*\u001b[0m\u001b[0;34m\u001b[0m\u001b[0;34m\u001b[0m\u001b[0m\n\u001b[0m\u001b[1;32m      2\u001b[0m \u001b[0mmahalanobis\u001b[0m\u001b[0;34m(\u001b[0m\u001b[0mx\u001b[0m\u001b[0;34m,\u001b[0m \u001b[0mdata\u001b[0m\u001b[0;34m)\u001b[0m\u001b[0;34m\u001b[0m\u001b[0;34m\u001b[0m\u001b[0m\n",
      "\u001b[0;32m~/Documents/GitHub/gmf/depth/multivariate/__init__.py\u001b[0m in \u001b[0;36m<module>\u001b[0;34m\u001b[0m\n\u001b[0;32m----> 1\u001b[0;31m \u001b[0;32mfrom\u001b[0m \u001b[0mdepth\u001b[0m\u001b[0;34m.\u001b[0m\u001b[0mmultivariate\u001b[0m\u001b[0;34m.\u001b[0m\u001b[0mDepth_approximation\u001b[0m \u001b[0;32mimport\u001b[0m \u001b[0mdepth_approximation\u001b[0m\u001b[0;34m\u001b[0m\u001b[0;34m\u001b[0m\u001b[0m\n\u001b[0m\u001b[1;32m      2\u001b[0m \u001b[0;32mfrom\u001b[0m \u001b[0mdepth\u001b[0m\u001b[0;34m.\u001b[0m\u001b[0mmultivariate\u001b[0m\u001b[0;34m.\u001b[0m\u001b[0mBetaSkeleton\u001b[0m \u001b[0;32mimport\u001b[0m \u001b[0mbetaSkeleton\u001b[0m\u001b[0;34m\u001b[0m\u001b[0;34m\u001b[0m\u001b[0m\n\u001b[1;32m      3\u001b[0m \u001b[0;32mfrom\u001b[0m \u001b[0mdepth\u001b[0m\u001b[0;34m.\u001b[0m\u001b[0mmultivariate\u001b[0m\u001b[0;34m.\u001b[0m\u001b[0mHalfspace\u001b[0m \u001b[0;32mimport\u001b[0m \u001b[0mhalfspace\u001b[0m\u001b[0;34m\u001b[0m\u001b[0;34m\u001b[0m\u001b[0m\n\u001b[1;32m      4\u001b[0m \u001b[0;32mfrom\u001b[0m \u001b[0mdepth\u001b[0m\u001b[0;34m.\u001b[0m\u001b[0mmultivariate\u001b[0m\u001b[0;34m.\u001b[0m\u001b[0mL2\u001b[0m \u001b[0;32mimport\u001b[0m \u001b[0mL2\u001b[0m\u001b[0;34m\u001b[0m\u001b[0;34m\u001b[0m\u001b[0m\n\u001b[1;32m      5\u001b[0m \u001b[0;32mfrom\u001b[0m \u001b[0mdepth\u001b[0m\u001b[0;34m.\u001b[0m\u001b[0mmultivariate\u001b[0m\u001b[0;34m.\u001b[0m\u001b[0mMahalanobis\u001b[0m \u001b[0;32mimport\u001b[0m \u001b[0mmahalanobis\u001b[0m\u001b[0;34m\u001b[0m\u001b[0;34m\u001b[0m\u001b[0m\n",
      "\u001b[0;32m~/Documents/GitHub/gmf/depth/multivariate/Depth_approximation.py\u001b[0m in \u001b[0;36m<module>\u001b[0;34m\u001b[0m\n\u001b[1;32m      1\u001b[0m \u001b[0;32mimport\u001b[0m \u001b[0mnumpy\u001b[0m \u001b[0;32mas\u001b[0m \u001b[0mnp\u001b[0m\u001b[0;34m\u001b[0m\u001b[0;34m\u001b[0m\u001b[0m\n\u001b[1;32m      2\u001b[0m \u001b[0;32mimport\u001b[0m \u001b[0msklearn\u001b[0m\u001b[0;34m.\u001b[0m\u001b[0mcovariance\u001b[0m \u001b[0;32mas\u001b[0m \u001b[0msk\u001b[0m\u001b[0;34m\u001b[0m\u001b[0;34m\u001b[0m\u001b[0m\n\u001b[0;32m----> 3\u001b[0;31m \u001b[0;32mfrom\u001b[0m \u001b[0mdepth\u001b[0m\u001b[0;34m.\u001b[0m\u001b[0mmultivariate\u001b[0m\u001b[0;34m.\u001b[0m\u001b[0mimport_CDLL\u001b[0m \u001b[0;32mimport\u001b[0m \u001b[0mlibr\u001b[0m\u001b[0;34m,\u001b[0m\u001b[0mlibRom\u001b[0m\u001b[0;34m\u001b[0m\u001b[0;34m\u001b[0m\u001b[0m\n\u001b[0m\u001b[1;32m      4\u001b[0m \u001b[0;32mfrom\u001b[0m \u001b[0mctypes\u001b[0m \u001b[0;32mimport\u001b[0m \u001b[0;34m*\u001b[0m\u001b[0;34m\u001b[0m\u001b[0;34m\u001b[0m\u001b[0m\n\u001b[1;32m      5\u001b[0m \u001b[0;34m\u001b[0m\u001b[0m\n",
      "\u001b[0;32m~/Documents/GitHub/gmf/depth/multivariate/import_CDLL.py\u001b[0m in \u001b[0;36m<module>\u001b[0;34m\u001b[0m\n\u001b[1;32m     56\u001b[0m \u001b[0;34m\u001b[0m\u001b[0m\n\u001b[1;32m     57\u001b[0m \u001b[0;34m\u001b[0m\u001b[0m\n\u001b[0;32m---> 58\u001b[0;31m \u001b[0mlibr\u001b[0m\u001b[0;34m,\u001b[0m \u001b[0mlibRom\u001b[0m \u001b[0;34m=\u001b[0m \u001b[0mimport_CDLL\u001b[0m\u001b[0;34m(\u001b[0m\u001b[0;34m)\u001b[0m\u001b[0;34m\u001b[0m\u001b[0;34m\u001b[0m\u001b[0m\n\u001b[0m\u001b[1;32m     59\u001b[0m \u001b[0;34m\u001b[0m\u001b[0m\n\u001b[1;32m     60\u001b[0m \u001b[0;34m\u001b[0m\u001b[0m\n",
      "\u001b[0;32m~/Documents/GitHub/gmf/depth/multivariate/import_CDLL.py\u001b[0m in \u001b[0;36mimport_CDLL\u001b[0;34m()\u001b[0m\n\u001b[1;32m     33\u001b[0m             \u001b[0mlibRom\u001b[0m \u001b[0;34m=\u001b[0m \u001b[0mct\u001b[0m\u001b[0;34m.\u001b[0m\u001b[0mCDLL\u001b[0m\u001b[0;34m(\u001b[0m\u001b[0mddalpha_approx\u001b[0m\u001b[0;34m[\u001b[0m\u001b[0;36m0\u001b[0m\u001b[0;34m]\u001b[0m\u001b[0;34m)\u001b[0m\u001b[0;34m\u001b[0m\u001b[0;34m\u001b[0m\u001b[0m\n\u001b[1;32m     34\u001b[0m         \u001b[0;32melse\u001b[0m\u001b[0;34m:\u001b[0m\u001b[0;34m\u001b[0m\u001b[0;34m\u001b[0m\u001b[0m\n\u001b[0;32m---> 35\u001b[0;31m             \u001b[0;32mraise\u001b[0m \u001b[0mFileNotFoundError\u001b[0m\u001b[0;34m(\u001b[0m\u001b[0;34m\"Shared libraries not found\"\u001b[0m\u001b[0;34m)\u001b[0m\u001b[0;34m\u001b[0m\u001b[0;34m\u001b[0m\u001b[0m\n\u001b[0m\u001b[1;32m     36\u001b[0m     \u001b[0;32melif\u001b[0m \u001b[0msys\u001b[0m\u001b[0;34m.\u001b[0m\u001b[0mplatform\u001b[0m \u001b[0;34m==\u001b[0m \u001b[0;34m\"win32\"\u001b[0m\u001b[0;34m:\u001b[0m\u001b[0;34m\u001b[0m\u001b[0;34m\u001b[0m\u001b[0m\n\u001b[1;32m     37\u001b[0m         site_packages = [\n",
      "\u001b[0;31mFileNotFoundError\u001b[0m: Shared libraries not found"
     ]
    }
   ],
   "source": [
    "from depth.multivariate import *\n",
    "mahalanobis(x, data)"
   ]
  },
  {
   "cell_type": "code",
   "execution_count": null,
   "metadata": {},
   "outputs": [],
   "source": []
  }
 ],
 "metadata": {
  "interpreter": {
   "hash": "b0fa6594d8f4cbf19f97940f81e996739fb7646882a419484c72d19e05852a7e"
  },
  "kernelspec": {
   "display_name": "Python 3 (ipykernel)",
   "language": "python",
   "name": "python3"
  },
  "language_info": {
   "codemirror_mode": {
    "name": "ipython",
    "version": 3
   },
   "file_extension": ".py",
   "mimetype": "text/x-python",
   "name": "python",
   "nbconvert_exporter": "python",
   "pygments_lexer": "ipython3",
   "version": "3.9.7"
  }
 },
 "nbformat": 4,
 "nbformat_minor": 2
}
